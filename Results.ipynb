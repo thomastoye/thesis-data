{
 "cells": [
  {
   "cell_type": "code",
   "execution_count": 266,
   "metadata": {},
   "outputs": [],
   "source": [
    "import json"
   ]
  },
  {
   "cell_type": "code",
   "execution_count": 159,
   "metadata": {},
   "outputs": [],
   "source": [
    "data_sets = [ 'baseline', 'iot', 'stocks', 'movielens' ]\n",
    "databases = [ 'influxdb', 'opentsdb', 'kairosdb-cassandra', 'kairosdb-scylladb' ]"
   ]
  },
  {
   "cell_type": "markdown",
   "metadata": {},
   "source": [
    "# Loading\n",
    "\n",
    "Loading data into the database. Metrics saved: loading speed (points per second) and total size of the data inside the database."
   ]
  },
  {
   "cell_type": "code",
   "execution_count": 183,
   "metadata": {},
   "outputs": [],
   "source": [
    "loading_speeds = { # Mean point insertion rate (per second)\n",
    "    \"influxdb\": {\n",
    "        \"baseline\": 481818,\n",
    "        \"movielens\":  4342,\n",
    "        \"stocks\": 156498,\n",
    "        \"iot\": 317999,\n",
    "    },\n",
    "    \"opentsdb\": {\n",
    "        \"baseline\": 89360,\n",
    "        \"movielens\": 21196,\n",
    "        \"stocks\": 86578,\n",
    "        \"iot\": 162473,\n",
    "    },\n",
    "    \"kairosdb-cassandra\": {\n",
    "        \"baseline\": 54792,\n",
    "        \"movielens\": 29913, # Did succeed, but could not verify count\n",
    "        \"stocks\": 78198,\n",
    "        \"iot\": 87413,\n",
    "    },\n",
    "    \"kairosdb-scylladb\": {\n",
    "        \"baseline\":  59231,\n",
    "        \"movielens\": 0, # Did not succeed - not all points were saved\n",
    "        \"stocks\":  82535,\n",
    "        \"iot\": 98736,\n",
    "    }\n",
    "}"
   ]
  },
  {
   "cell_type": "code",
   "execution_count": 179,
   "metadata": {},
   "outputs": [],
   "source": [
    "bytes_per_dp = {\n",
    "    \"csv\": {\n",
    "        \"baseline\": 571824569 / 10000000,\n",
    "        \"movielens\": 803233084 / 10000000,\n",
    "        \"stocks\": 294354837 / 10000000,\n",
    "        \"iot\": 344793310 / 10000000,\n",
    "    },\n",
    "    \"influxdb\": {\n",
    "        \"baseline\": 81762020 / 990000,\n",
    "        \"movielens\": 577506112 / 990000,\n",
    "        \"stocks\": 169634300 / 990000,\n",
    "        \"iot\": 113695704 / 990000,\n",
    "    },\n",
    "    \"opentsdb\": {\n",
    "        \"baseline\": 138454917 / 1000000,\n",
    "        \"movielens\": 71566746 / 1000000,\n",
    "        \"stocks\": 46119566 / 1000000,\n",
    "        \"iot\": 8912765 / 1000000,\n",
    "    },\n",
    "    \"kairosdb-cassandra\": {\n",
    "        \"baseline\": 154298112 / 1000000,\n",
    "        \"movielens\": 264238436 / 1000000,\n",
    "        \"stocks\": 182716189 / 1000000,\n",
    "        \"iot\": 77072011 / 1000000,\n",
    "    },\n",
    "    \"kairosdb-scylladb\": {\n",
    "        \"baseline\": 1074734152 / 1000000,\n",
    "        \"movielens\": 0, #1074734153 * (1000000/274149),\n",
    "        \"stocks\": 1074734122 / 1000000,\n",
    "        \"iot\": 1074734170 / 1000000,\n",
    "    }\n",
    "}"
   ]
  },
  {
   "cell_type": "code",
   "execution_count": 270,
   "metadata": {
    "scrolled": false
   },
   "outputs": [
    {
     "name": "stdout",
     "output_type": "stream",
     "text": [
      "Data set & csv & influxdb & opentsdb & kairosdb-cassandra & kairosdb-scylladb \\\\\n",
      "baseline & 57.182 & 82.588 & 138.455 & 154.298 & 1074.734 \\\\\n",
      "iot & 34.479 & 114.844 & 8.913 & 77.072 & 1074.734 \\\\\n",
      "stocks & 29.435 & 171.348 & 46.12 & 182.716 & 1074.734 \\\\\n",
      "movielens & 80.323 & 583.34 & 71.567 & 264.238 & 0 \\\\\n"
     ]
    }
   ],
   "source": [
    "# Table for storage efficiency\n",
    "\n",
    "print(' & '.join(['Data set', 'csv'] + databases) + ' \\\\\\\\')\n",
    "\n",
    "for ds in data_sets:\n",
    "    print(ds + ' & ' + ' & '.join(map(lambda db: str(round(bytes_per_dp[db][ds], 3)), ['csv'] + databases)) + ' \\\\\\\\')\n"
   ]
  },
  {
   "cell_type": "code",
   "execution_count": 276,
   "metadata": {},
   "outputs": [
    {
     "name": "stdout",
     "output_type": "stream",
     "text": [
      "Data set & csv & influxdb & opentsdb & kairosdb-cassandra & kairosdb-scylladb \\\\\n",
      "baseline & 1.0 & 1.4443 & 2.4213 & 2.6983 & 18.7948 \\\\\n",
      "iot & 1.0 & 3.3308 & 0.2585 & 2.2353 & 31.1704 \\\\\n",
      "stocks & 1.0 & 5.8211 & 1.5668 & 6.2073 & 36.5115 \\\\\n",
      "movielens & 1.0 & 7.2624 & 0.891 & 3.2897 & 0.0 \\\\\n"
     ]
    }
   ],
   "source": [
    "# Table for relative storage efficiency\n",
    "\n",
    "print(' & '.join(['Data set', 'csv'] + databases) + ' \\\\\\\\')\n",
    "\n",
    "for ds in data_sets:\n",
    "    print(ds + ' & ' + ' & '.join(map(lambda db: str(round(bytes_per_dp[db][ds] / bytes_per_dp['csv'][ds], 4)), ['csv'] + databases)) + ' \\\\\\\\')\n"
   ]
  },
  {
   "cell_type": "code",
   "execution_count": 184,
   "metadata": {},
   "outputs": [
    {
     "name": "stdout",
     "output_type": "stream",
     "text": [
      "Data set & influxdb & opentsdb & kairosdb-cassandra & kairosdb-scylladb \\\\\n",
      "baseline & 481818 & 89360 & 54792 & 59231 \\\\\n",
      "iot & 317999 & 162473 & 87413 & 98736 \\\\\n",
      "stocks & 156498 & 86578 & 78198 & 82535 \\\\\n",
      "movielens & 4342 & 21196 & 29913 & 0 \\\\\n"
     ]
    }
   ],
   "source": [
    "# Table for data loading speed\n",
    "\n",
    "print(' & '.join(['Data set'] + databases) + ' \\\\\\\\')\n",
    "\n",
    "for ds in data_sets:\n",
    "    print(ds + ' & ' + ' & '.join(map(lambda db: str(loading_speeds[db][ds]), databases)) + ' \\\\\\\\')\n",
    "\n"
   ]
  },
  {
   "cell_type": "code",
   "execution_count": 220,
   "metadata": {},
   "outputs": [
    {
     "name": "stdout",
     "output_type": "stream",
     "text": [
      "Data set & influxdb & opentsdb & kairosdb-cassandra & kairosdb-scylladb \\\\\n",
      "baseline & 1.0 & 0.1854642209298947 & 0.11371928819595781 & 0.12293231054049454 \\\\\n",
      "iot & 1.0 & 0.5109229903238689 & 0.27488451221544724 & 0.31049154242623406 \\\\\n",
      "stocks & 1.0 & 0.5532211274265486 & 0.4996741172411149 & 0.5273869314623829 \\\\\n",
      "movielens & 1.0 & 4.881621372639337 & 6.889221556886228 & 0.0 \\\\\n"
     ]
    }
   ],
   "source": [
    "# Table for relative data loading speed\n",
    "\n",
    "print(' & '.join(['Data set'] + databases) + ' \\\\\\\\')\n",
    "\n",
    "for ds in data_sets:\n",
    "    print(ds + ' & ' + ' & '.join(map(lambda db: str(loading_speeds[db][ds] / loading_speeds['influxdb'][ds]), databases)) + ' \\\\\\\\')\n",
    "\n"
   ]
  },
  {
   "cell_type": "markdown",
   "metadata": {},
   "source": [
    "# OLAP"
   ]
  },
  {
   "cell_type": "code",
   "execution_count": 253,
   "metadata": {},
   "outputs": [],
   "source": [
    "results = {\n",
    "    \"baseline\": {\n",
    "        \"config\": {\n",
    "            \"vegeta\": { \"duration\": 120,\"rate\": 10, \"timeout\": 30 }\n",
    "        },\n",
    "        \"opentsdb\": {\n",
    "            \"smoke_test\": 347.367, # fetches per s, http_load -parallel 10 -timeout 30 -seconds 30\n",
    "            \"vegeta\": json.loads('{\"latencies\":{\"total\":15070522122,\"mean\":12558768,\"50th\":8760884,\"95th\":12852900,\"99th\":37494724,\"max\":825906077},\"bytes_in\":{\"total\":151200,\"mean\":126},\"bytes_out\":{\"total\":0,\"mean\":0},\"earliest\":\"2019-05-26T10:44:23.023366412-06:00\",\"latest\":\"2019-05-26T10:46:22.923150005-06:00\",\"end\":\"2019-05-26T10:46:22.931529278-06:00\",\"duration\":119899783593,\"wait\":8379273,\"requests\":1200,\"rate\":10.008358347613052,\"success\":1,\"status_codes\":{\"200\":1200},\"errors\":[]}'),\n",
    "            # rate 50\"vegeta\": json.loads('{\"latencies\":{\"total\":46736614363,\"mean\":7789435,\"50th\":6889286,\"95th\":8644399,\"99th\":27587592,\"max\":281790347},\"bytes_in\":{\"total\":756000,\"mean\":126},\"bytes_out\":{\"total\":0,\"mean\":0},\"earliest\":\"2019-05-25T10:13:22.360875412-06:00\",\"latest\":\"2019-05-25T10:15:22.340766535-06:00\",\"end\":\"2019-05-25T10:15:22.347386656-06:00\",\"duration\":119979891123,\"wait\":6620121,\"requests\":6000,\"rate\":50.008380103037176,\"success\":1,\"status_codes\":{\"200\":6000},\"errors\":[]}')\n",
    "            \"docker_stats\": True,\n",
    "        },\n",
    "        \"influxdb\": {\n",
    "            \"smoke_test\": 6400.36,\n",
    "            \"vegeta\": json.loads('{\"latencies\":{\"total\":1519004957,\"mean\":1265837,\"50th\":1231827,\"95th\":1399121,\"99th\":1775473,\"max\":7419689},\"bytes_in\":{\"total\":222000,\"mean\":185},\"bytes_out\":{\"total\":0,\"mean\":0},\"earliest\":\"2019-05-26T10:49:23.68481563-06:00\",\"latest\":\"2019-05-26T10:51:23.584793307-06:00\",\"end\":\"2019-05-26T10:51:23.585931121-06:00\",\"duration\":119899977677,\"wait\":1137814,\"requests\":1200,\"rate\":10.008342146924285,\"success\":1,\"status_codes\":{\"200\":1200},\"errors\":[]}'),\n",
    "            # rate 50 \"vegeta\": json.loads('{\"latencies\":{\"total\":7494332523,\"mean\":1249055,\"50th\":1211344,\"95th\":1418718,\"99th\":1800635,\"max\":7868000},\"bytes_in\":{\"total\":1110000,\"mean\":185},\"bytes_out\":{\"total\":0,\"mean\":0},\"earliest\":\"2019-05-25T10:25:20.525863847-06:00\",\"latest\":\"2019-05-25T10:27:20.505831706-06:00\",\"end\":\"2019-05-25T10:27:20.507041622-06:00\",\"duration\":119979967859,\"wait\":1209916,\"requests\":6000,\"rate\":50.00834811900581,\"success\":1,\"status_codes\":{\"200\":6000},\"errors\":[]}')\n",
    "            \"docker_stats\": True,\n",
    "        },\n",
    "        \"kairosdb-cassandra\": {\n",
    "            \"smoke_test\": 12.8,\n",
    "            \"vegeta\": json.loads('{\"latencies\":{\"total\":1035171303072,\"mean\":862642752,\"50th\":77400115,\"95th\":124640305,\"99th\":30000239647,\"max\":30000337026},\"bytes_in\":{\"total\":236946,\"mean\":197.455},\"bytes_out\":{\"total\":0,\"mean\":0},\"earliest\":\"2019-05-26T10:33:11.934750576-06:00\",\"latest\":\"2019-05-26T10:35:11.834672078-06:00\",\"end\":\"2019-05-26T10:35:12.03257532-06:00\",\"duration\":119899921502,\"wait\":197903242,\"requests\":1200,\"rate\":10.008346835990075,\"success\":0.9775,\"status_codes\":{\"0\":27,\"200\":1173},\"errors\":[\"Get http://10.2.0.42:8080/api/v1/datapoints/query?query=%7B%22start_absolute%22%3A1546300800000%2C%22end_absolute%22%3A1546300803000%2C%22metrics%22%3A%5B%7B%22name%22%3A%22benchmark%22%2C%22tags%22%3A%7B%22tag1%22%3A%22TAG_1_8%22%2C%22tag2%22%3A%22TAG_2_6%22%7D%7D%5D%7D: net/http: request canceled (Client.Timeout exceeded while awaiting headers)\"]}')\n",
    "        },\n",
    "        \"kairosdb-scylladb\": {\n",
    "            \"smoke_test\": 15.4667,\n",
    "            \"vegeta\": json.loads('{\"latencies\":{\"total\":276149618488,\"mean\":230124682,\"50th\":75721768,\"95th\":82588156,\"99th\":214445526,\"max\":30000383277},\"bytes_in\":{\"total\":241592,\"mean\":201.32666666666665},\"bytes_out\":{\"total\":0,\"mean\":0},\"earliest\":\"2019-05-27T14:38:55.434784317-06:00\",\"latest\":\"2019-05-27T14:40:55.334782028-06:00\",\"end\":\"2019-05-27T14:40:55.63935822-06:00\",\"duration\":119899997711,\"wait\":304576192,\"requests\":1200,\"rate\":10.00834047463796,\"success\":0.9966666666666667,\"status_codes\":{\"0\":4,\"200\":1196},\"errors\":[\"Get http://10.2.0.42:8080/api/v1/datapoints/query?query=%7B%22start_absolute%22%3A1546300800000%2C%22end_absolute%22%3A1546300803000%2C%22metrics%22%3A%5B%7B%22name%22%3A%22benchmark%22%2C%22tags%22%3A%7B%22tag1%22%3A%22TAG_1_8%22%2C%22tag2%22%3A%22TAG_2_6%22%7D%7D%5D%7D: net/http: request canceled (Client.Timeout exceeded while awaiting headers)\"]}')\n",
    "            #\"vegeta\": json.loads('{\"latencies\":{\"total\":164198015566,\"mean\":136831679,\"50th\":64214704,\"95th\":70532287,\"99th\":82608986,\"max\":30000160027},\"bytes_in\":{\"total\":103028,\"mean\":85.85666666666667},\"bytes_out\":{\"total\":0,\"mean\":0},\"earliest\":\"2019-05-26T10:39:17.472709847-06:00\",\"latest\":\"2019-05-26T10:41:17.372550086-06:00\",\"end\":\"2019-05-26T10:41:17.43940145-06:00\",\"duration\":119899840239,\"wait\":66851364,\"requests\":1200,\"rate\":10.008353619220872,\"success\":0.9983333333333333,\"status_codes\":{\"0\":2,\"200\":1198},\"errors\":[\"Get http://10.2.0.42:8080/api/v1/datapoints/query?query=%7B%22start_absolute%22%3A1546300800000%2C%22end_absolute%22%3A1546300803000%2C%22metrics%22%3A%5B%7B%22name%22%3A%22benchmark%22%2C%22tags%22%3A%7B%22tag1%22%3A%22TAG_1_8%22%2C%22tag2%22%3A%22TAG_2_6%22%7D%7D%5D%7D: net/http: request canceled (Client.Timeout exceeded while awaiting headers)\"]}')\n",
    "        },\n",
    "    },\n",
    "    \"movielens\": {\n",
    "        \"config\": {\n",
    "            \"vegeta\": { \"duration\": 120,\"rate\": 2, \"timeout\": 30 }\n",
    "        },\n",
    "        \"opentsdb\": {\n",
    "            \"smoke_test\": 2.13333,\n",
    "            \"vegeta\": json.loads('{\"latencies\":{\"total\":615124808278,\"mean\":2563020034,\"50th\":2557478376,\"95th\":2786607644,\"99th\":2874002844,\"max\":3115421721},\"bytes_in\":{\"total\":93756,\"mean\":390.65},\"bytes_out\":{\"total\":0,\"mean\":0},\"earliest\":\"2019-05-26T11:15:35.720640068-06:00\",\"latest\":\"2019-05-26T11:17:35.220619818-06:00\",\"end\":\"2019-05-26T11:17:37.394694003-06:00\",\"duration\":119499979750,\"wait\":2174074185,\"requests\":240,\"rate\":2.008368541167054,\"success\":1,\"status_codes\":{\"200\":240},\"errors\":[]}'),\n",
    "            \"docker_stats\": True,\n",
    "        },\n",
    "        \"influxdb\": {\n",
    "            \"smoke_test\": 78.3333,\n",
    "            \"vegeta\": json.loads('{\"latencies\":{\"total\":25058484333,\"mean\":104410351,\"50th\":35781987,\"95th\":462786983,\"99th\":571478623,\"max\":748210568},\"bytes_in\":{\"total\":300084,\"mean\":1250.35},\"bytes_out\":{\"total\":0,\"mean\":0},\"earliest\":\"2019-05-26T11:49:43.743733081-06:00\",\"latest\":\"2019-05-26T11:51:43.243720962-06:00\",\"end\":\"2019-05-26T11:51:43.285025786-06:00\",\"duration\":119499987881,\"wait\":41304824,\"requests\":240,\"rate\":2.008368404513947,\"success\":1,\"status_codes\":{\"200\":240},\"errors\":[]}'),\n",
    "            \"docker_stats\": True,\n",
    "        },\n",
    "        \"kairosdb-cassandra\": {\n",
    "            \"smoke_test\": 0, # Could not complete! org.kairosdb.core.exception.DatastoreException: org.kairosdb.util.MemoryMonitorException: Insufficient memory to perform request\n",
    "            #\"vegeta\": json.loads('')\n",
    "        },\n",
    "        \"kairosdb-scylladb\": {\n",
    "            \"smoke_test\": 0, # Could not complete! Could not load data set\n",
    "            #\"vegeta\": json.loads('')\n",
    "        },\n",
    "    },\n",
    "    \"stocks\": {\n",
    "        \"config\": {\n",
    "            \"vegeta\": { \"duration\": 120,\"rate\": 20, \"timeout\": 0 }\n",
    "        },\n",
    "        \"opentsdb\": {\n",
    "            \"smoke_test\": 15.5664,\n",
    "            \"vegeta\": json.loads('{\"latencies\":{\"total\":6435457340252,\"mean\":2681440558,\"50th\":2390509199,\"95th\":3991057059,\"99th\":4285139552,\"max\":4864904304},\"bytes_in\":{\"total\":69250440,\"mean\":28854.35},\"bytes_out\":{\"total\":0,\"mean\":0},\"earliest\":\"2019-05-25T12:46:09.002424471-06:00\",\"latest\":\"2019-05-25T12:48:08.952376236-06:00\",\"end\":\"2019-05-25T12:48:10.30802461-06:00\",\"duration\":119949951765,\"wait\":1355648374,\"requests\":2400,\"rate\":20.008344852876316,\"success\":1,\"status_codes\":{\"200\":2400},\"errors\":[]}'),\n",
    "            \"docker_stats\": True,\n",
    "        },\n",
    "        \"influxdb\": {\n",
    "            \"smoke_test\": 235.733,\n",
    "            \"vegeta\": json.loads('{\"latencies\":{\"total\":138911618384,\"mean\":57879840,\"50th\":55517268,\"95th\":87277173,\"99th\":101453192,\"max\":121655629},\"bytes_in\":{\"total\":79646640,\"mean\":33186.1},\"bytes_out\":{\"total\":0,\"mean\":0},\"earliest\":\"2019-05-25T12:41:13.5943453-06:00\",\"latest\":\"2019-05-25T12:43:13.544312501-06:00\",\"end\":\"2019-05-25T12:43:13.600544309-06:00\",\"duration\":119949967201,\"wait\":56231808,\"requests\":2400,\"rate\":20.008342278062678,\"success\":1,\"status_codes\":{\"200\":2400},\"errors\":[]}'),\n",
    "            \"docker_stats\": True\n",
    "        },\n",
    "        \"kairosdb-cassandra\": {\n",
    "            \"smoke_test\": 26.8332,\n",
    "            \"vegeta\": json.loads('{\"latencies\":{\"total\":256440660663,\"mean\":106850275,\"50th\":102376135,\"95th\":133174898,\"99th\":148262821,\"max\":234225101},\"bytes_in\":{\"total\":55482600,\"mean\":23117.75},\"bytes_out\":{\"total\":0,\"mean\":0},\"earliest\":\"2019-05-25T13:07:43.66250197-06:00\",\"latest\":\"2019-05-25T13:09:43.612474067-06:00\",\"end\":\"2019-05-25T13:09:43.697448085-06:00\",\"duration\":119949972097,\"wait\":84974018,\"requests\":2400,\"rate\":20.00834146138184,\"success\":1,\"status_codes\":{\"200\":2400},\"errors\":[]}')\n",
    "        },\n",
    "        \"kairosdb-scylladb\": {\n",
    "            \"smoke_test\": 28.5667,\n",
    "            \"vegeta\": json.loads('{\"latencies\":{\"total\":293399166031,\"mean\":122249652,\"50th\":121426422,\"95th\":136843726,\"99th\":148021624,\"max\":170815253},\"bytes_in\":{\"total\":55482600,\"mean\":23117.75},\"bytes_out\":{\"total\":0,\"mean\":0},\"earliest\":\"2019-05-27T15:28:30.237693354-06:00\",\"latest\":\"2019-05-27T15:30:30.187762774-06:00\",\"end\":\"2019-05-27T15:30:30.284325453-06:00\",\"duration\":119950069420,\"wait\":96562679,\"requests\":2400,\"rate\":20.008325227361922,\"success\":1,\"status_codes\":{\"200\":2400},\"errors\":[]}'),\n",
    "            #\"vegeta\": json.loads('{\"latencies\":{\"total\":245094234589,\"mean\":102122597,\"50th\":98576673,\"95th\":127224758,\"99th\":146029928,\"max\":286352096},\"bytes_in\":{\"total\":51888600,\"mean\":21620.25},\"bytes_out\":{\"total\":0,\"mean\":0},\"earliest\":\"2019-05-25T13:18:56.34748875-06:00\",\"latest\":\"2019-05-25T13:20:56.297586349-06:00\",\"end\":\"2019-05-25T13:20:56.386031861-06:00\",\"duration\":119950097599,\"wait\":88445512,\"requests\":2400,\"rate\":20.00832052695227,\"success\":1,\"status_codes\":{\"200\":2400},\"errors\":[]}')\n",
    "        },\n",
    "    },\n",
    "    \"iot\": {\n",
    "        \"config\": {\n",
    "            \"vegeta\": { \"duration\": 120,\"rate\": 30, \"timeout\": 30 }\n",
    "        },\n",
    "        \"opentsdb\": {\n",
    "            \"smoke_test\": 117.3, # reqs/s\n",
    "            #\"vegeta\": json.loads('{\"latencies\":{\"total\":299779722389,\"mean\":24981643,\"50th\":10477034,\"95th\":94561740,\"99th\":109841776,\"max\":173976168},\"bytes_in\":{\"total\":4205400,\"mean\":350.45},\"bytes_out\":{\"total\":0,\"mean\":0},\"earliest\":\"2019-05-25T14:02:49.983261973-06:00\",\"latest\":\"2019-05-25T14:04:49.973013938-06:00\",\"end\":\"2019-05-25T14:04:50.044311643-06:00\",\"duration\":119989751965,\"wait\":71297705,\"requests\":12000,\"rate\":100.00854075854994,\"success\":1,\"status_codes\":{\"200\":12000},\"errors\":[]}')\n",
    "            \"vegeta\": json.loads('{\"latencies\":{\"total\":65856330367,\"mean\":18293425,\"50th\":7688133,\"95th\":44926242,\"99th\":103119224,\"max\":1000546784},\"bytes_in\":{\"total\":1261620,\"mean\":350.45},\"bytes_out\":{\"total\":0,\"mean\":0},\"earliest\":\"2019-05-25T14:56:15.067189689-06:00\",\"latest\":\"2019-05-25T14:58:15.03369499-06:00\",\"end\":\"2019-05-25T14:58:15.072744873-06:00\",\"duration\":119966505301,\"wait\":39049883,\"requests\":3600,\"rate\":30.00837601268353,\"success\":1,\"status_codes\":{\"200\":3600},\"errors\":[]}'),\n",
    "            \"docker_stats\": True,\n",
    "        },\n",
    "        \"influxdb\": {\n",
    "            \"smoke_test\": 997.567,\n",
    "            #\"vegeta\": json.loads('{\"latencies\":{\"total\":88749824295,\"mean\":7395818,\"50th\":4524806,\"95th\":21920820,\"99th\":26154907,\"max\":38884255},\"bytes_in\":{\"total\":6088200,\"mean\":507.35},\"bytes_out\":{\"total\":0,\"mean\":0},\"earliest\":\"2019-05-25T14:06:54.269413001-06:00\",\"latest\":\"2019-05-25T14:08:54.259327209-06:00\",\"end\":\"2019-05-25T14:08:54.278129048-06:00\",\"duration\":119989914208,\"wait\":18801839,\"requests\":12000,\"rate\":100.00840553313715,\"success\":1,\"status_codes\":{\"200\":12000},\"errors\":[]}')\n",
    "            \"vegeta\": json.loads('{\"latencies\":{\"total\":27489685505,\"mean\":7636023,\"50th\":5310755,\"95th\":22049411,\"99th\":23346706,\"max\":30482868},\"bytes_in\":{\"total\":1826460,\"mean\":507.35},\"bytes_out\":{\"total\":0,\"mean\":0},\"earliest\":\"2019-05-25T14:52:10.068214027-06:00\",\"latest\":\"2019-05-25T14:54:10.034853599-06:00\",\"end\":\"2019-05-25T14:54:10.056127436-06:00\",\"duration\":119966639572,\"wait\":21273837,\"requests\":3600,\"rate\":30.008342426224242,\"success\":1,\"status_codes\":{\"200\":3600},\"errors\":[]}'),\n",
    "            \"docker_stats\": True,\n",
    "        },\n",
    "        \"kairosdb-cassandra\": {\n",
    "            \"smoke_test\": 29.4333,\n",
    "            \"vegeta\": json.loads('{\"latencies\":{\"total\":561275367174,\"mean\":155909824,\"50th\":120016576,\"95th\":333995350,\"99th\":367150766,\"max\":463262969},\"bytes_in\":{\"total\":1653840,\"mean\":459.4},\"bytes_out\":{\"total\":0,\"mean\":0},\"earliest\":\"2019-05-25T14:27:44.763563967-06:00\",\"latest\":\"2019-05-25T14:29:44.73018003-06:00\",\"end\":\"2019-05-25T14:29:45.019319655-06:00\",\"duration\":119966616063,\"wait\":289139625,\"requests\":3600,\"rate\":30.00834830674455,\"success\":1,\"status_codes\":{\"200\":3600},\"errors\":[]}'),\n",
    "            #\"docker_stats\": ,\n",
    "        },\n",
    "        \"kairosdb-scylladb\": {\n",
    "            \"smoke_test\": 40.1667,\n",
    "            \"vegeta\": json.loads('{\"latencies\":{\"total\":268164593577,\"mean\":74490164,\"50th\":53901595,\"95th\":193673539,\"99th\":210816087,\"max\":343825017},\"bytes_in\":{\"total\":1653840,\"mean\":459.4},\"bytes_out\":{\"total\":0,\"mean\":0},\"earliest\":\"2019-05-25T14:40:34.345559774-06:00\",\"latest\":\"2019-05-25T14:42:34.312372285-06:00\",\"end\":\"2019-05-25T14:42:34.482179383-06:00\",\"duration\":119966812511,\"wait\":169807098,\"requests\":3600,\"rate\":30.00829916748775,\"success\":1,\"status_codes\":{\"200\":3600},\"errors\":[]}'),\n",
    "            #\"docker_stats\": ,\n",
    "        },\n",
    "    }\n",
    "}"
   ]
  },
  {
   "cell_type": "code",
   "execution_count": 254,
   "metadata": {},
   "outputs": [
    {
     "name": "stdout",
     "output_type": "stream",
     "text": [
      "Data set & influxdb & opentsdb & kairosdb-cassandra & kairosdb-scylladb \\\\\n",
      "baseline & 6400.36 & 347.367 & 12.8 & 15.4667 \\\\\n",
      "iot & 997.567 & 117.3 & 29.4333 & 40.1667 \\\\\n",
      "stocks & 235.733 & 15.5664 & 26.8332 & 28.5667 \\\\\n",
      "movielens & 78.3333 & 2.13333 & 0 & 0 \\\\\n"
     ]
    }
   ],
   "source": [
    "# Table for max reqs/s\n",
    "\n",
    "print(' & '.join(['Data set'] + databases) + ' \\\\\\\\')\n",
    "\n",
    "for ds in data_sets:\n",
    "    print(ds + ' & ' + ' & '.join(map(lambda db: str(results[ds][db]['smoke_test']), databases)) + ' \\\\\\\\')\n",
    "\n"
   ]
  },
  {
   "cell_type": "code",
   "execution_count": 256,
   "metadata": {},
   "outputs": [
    {
     "name": "stdout",
     "output_type": "stream",
     "text": [
      "Data set & influxdb & opentsdb & kairosdb-cassandra & kairosdb-scylladb \\\\\n",
      "baseline & 1.0 & 0.05427304089144986 & 0.0019998875063277693 & 0.002416535944853102 \\\\\n",
      "iot & 1.0 & 0.11758608694954825 & 0.029505085873931275 & 0.04026466392733521 \\\\\n",
      "stocks & 1.0 & 0.06603403002549495 & 0.11382878086648879 & 0.12118243945480692 \\\\\n",
      "movielens & 1.0 & 0.027234011588941103 & 0.0 & 0.0 \\\\\n"
     ]
    }
   ],
   "source": [
    "# Table for relative max reqs/s\n",
    "\n",
    "print(' & '.join(['Data set'] + databases) + ' \\\\\\\\')\n",
    "\n",
    "for ds in data_sets:\n",
    "    print(ds + ' & ' + ' & '.join(map(lambda db: str(results[ds][db]['smoke_test'] / results[ds]['influxdb']['smoke_test']), databases)) + ' \\\\\\\\')\n",
    "\n"
   ]
  },
  {
   "cell_type": "code",
   "execution_count": 247,
   "metadata": {},
   "outputs": [
    {
     "name": "stdout",
     "output_type": "stream",
     "text": [
      "Data set & influxdb & opentsdb & kairosdb-cassandra & kairosdb-scylladb \\\\\n",
      "baseline & 185.0 & 126.0 & 202.0 & 202.0 \\\\\n",
      "iot & 507.35 & 350.45 & 459.4 & 459.4 \\\\\n",
      "stocks & 33186.1 & 28854.35 & 23117.75 & 23117.75 \\\\\n",
      "movielens & 1250.35 & 390.65 & 0 & 0 \\\\\n"
     ]
    }
   ],
   "source": [
    "# Table for mean bytes per response\n",
    "\n",
    "print(' & '.join(['Data set'] + databases) + ' \\\\\\\\')\n",
    "\n",
    "for ds in data_sets:\n",
    "    def get_bytes_in(db_details):\n",
    "        if 'vegeta' in db_details:\n",
    "            return db_details['vegeta']['bytes_in']['total'] / db_details['vegeta']['status_codes']['200']\n",
    "        else:\n",
    "            return 0\n",
    "    \n",
    "    print(ds + ' & ' + ' & '.join(map(lambda db: str(get_bytes_in(results[ds][db])), databases)) + ' \\\\\\\\')\n"
   ]
  },
  {
   "cell_type": "code",
   "execution_count": 212,
   "metadata": {},
   "outputs": [],
   "source": [
    "def ns_to_ms(nanoseconds):\n",
    "    return nanoseconds / (10**6)"
   ]
  },
  {
   "cell_type": "code",
   "execution_count": 278,
   "metadata": {
    "scrolled": false
   },
   "outputs": [
    {
     "name": "stdout",
     "output_type": "stream",
     "text": [
      "Data set & influxdb & opentsdb & kairosdb-cassandra & kairosdb-scylladb \\\\\n",
      "baseline & 1.266 & 12.559 & 862.643 & 230.125 \\\\\n",
      "iot & 7.636 & 18.293 & 155.91 & 74.49 \\\\\n",
      "stocks & 57.88 & 2681.441 & 106.85 & 122.25 \\\\\n",
      "movielens & 104.41 & 2563.02 & 0 & 0 \\\\\n"
     ]
    }
   ],
   "source": [
    "# Table for mean request latency\n",
    "\n",
    "print(' & '.join(['Data set'] + databases) + ' \\\\\\\\')\n",
    "\n",
    "for ds in data_sets:\n",
    "    def get_mean_latency(db_details):\n",
    "        if 'vegeta' in db_details:\n",
    "            return ns_to_ms(db_details['vegeta']['latencies']['mean'])\n",
    "        else:\n",
    "            return 0\n",
    "    \n",
    "    print(ds + ' & ' + ' & '.join(map(lambda db: str(round(get_mean_latency(results[ds][db]), 3)), databases)) + ' \\\\\\\\')\n"
   ]
  },
  {
   "cell_type": "code",
   "execution_count": 255,
   "metadata": {},
   "outputs": [
    {
     "name": "stdout",
     "output_type": "stream",
     "text": [
      "Data set & influxdb & opentsdb & kairosdb-cassandra & kairosdb-scylladb \\\\\n",
      "baseline & 0 & 0 & 27 & 4 \\\\\n",
      "iot & 0 & 0 & 0 & 0 \\\\\n",
      "stocks & 0 & 0 & 0 & 0 \\\\\n",
      "movielens & 0 & 0 & 0 & 0 \\\\\n"
     ]
    }
   ],
   "source": [
    "# Table for number of time-outs\n",
    "\n",
    "print(' & '.join(['Data set'] + databases) + ' \\\\\\\\')\n",
    "\n",
    "for ds in data_sets:\n",
    "    def get_mean_latency(db_details):\n",
    "        if 'vegeta' in db_details and '0' in db_details['vegeta']['status_codes']:\n",
    "            return db_details['vegeta']['status_codes']['0']\n",
    "        else:\n",
    "            return 0\n",
    "    \n",
    "    print(ds + ' & ' + ' & '.join(map(lambda db: str(get_mean_latency(results[ds][db])), databases)) + ' \\\\\\\\')\n"
   ]
  },
  {
   "cell_type": "code",
   "execution_count": 216,
   "metadata": {},
   "outputs": [
    {
     "name": "stdout",
     "output_type": "stream",
     "text": [
      "Data set & influxdb & opentsdb & kairosdb-cassandra & kairosdb-scylladb \\\\\n",
      "baseline & 1.399121 & 12.8529 & 124.640305 & 70.532287 \\\\\n",
      "iot & 22.049411 & 44.926242 & 333.99535 & 193.673539 \\\\\n",
      "stocks & 87.277173 & 3991.057059 & 133.174898 & 127.224758 \\\\\n",
      "movielens & 462.786983 & 2786.607644 & 0 & 0 \\\\\n"
     ]
    }
   ],
   "source": [
    "# Table for 95th percentile request latency\n",
    "\n",
    "print(' & '.join(['Data set'] + databases) + ' \\\\\\\\')\n",
    "\n",
    "for ds in data_sets:\n",
    "    def get_mean_latency(db_details):\n",
    "        if 'vegeta' in db_details:\n",
    "            return ns_to_ms(db_details['vegeta']['latencies']['95th'])\n",
    "        else:\n",
    "            return 0\n",
    "    \n",
    "    print(ds + ' & ' + ' & '.join(map(lambda db: str(get_mean_latency(results[ds][db])), databases)) + ' \\\\\\\\')\n"
   ]
  }
 ],
 "metadata": {
  "kernelspec": {
   "display_name": "Python 3",
   "language": "python",
   "name": "python3"
  },
  "language_info": {
   "codemirror_mode": {
    "name": "ipython",
    "version": 3
   },
   "file_extension": ".py",
   "mimetype": "text/x-python",
   "name": "python",
   "nbconvert_exporter": "python",
   "pygments_lexer": "ipython3",
   "version": "3.6.8"
  }
 },
 "nbformat": 4,
 "nbformat_minor": 2
}
